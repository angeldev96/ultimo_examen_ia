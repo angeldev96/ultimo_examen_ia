{
 "cells": [
  {
   "cell_type": "code",
   "execution_count": 2,
   "metadata": {},
   "outputs": [],
   "source": [
    "import pandas as pd\n",
    "import numpy as np\n",
    "import matplotlib.pyplot as plt\n",
    "import seaborn as sns\n",
    "from sklearn.preprocessing import StandardScaler\n",
    "from sklearn.decomposition import PCA\n",
    "from sklearn.cluster import KMeans\n",
    "import plotly.express as px "
   ]
  },
  {
   "cell_type": "code",
   "execution_count": 3,
   "metadata": {},
   "outputs": [],
   "source": [
    "#Dataset limpio\n",
    "wine = pd.read_csv('winequality_clean.csv')"
   ]
  },
  {
   "attachments": {},
   "cell_type": "markdown",
   "metadata": {},
   "source": [
    "Segun el dataset de wine, realice las siguientes actividades:\n",
    "- Limpie las variables numericas. (evalue primero si vale la pena estretificar por type), en caso de existir valores atipicos remplece por la media.\n",
    "- Aplique PCA utilizando maximo 5 columnas (evalue si el PCA vale la pena hacer uno para white y otro para red)\n",
    "        - No se debe de usar quality para este ejercicio\n",
    "- Una ves tenga el PCA, aplique un algoritmo de k-means para crear tres perfiles del vino. (explique que significa cada perfil)\n",
    "- Agregue la nueva variable al dateset y elimine las columnas que hayan formado parte de analisis del PCA, tanto para white como para red, en caso que hayan sido entrenamientos distintos.\n",
    "- Crea la varible de respuesta de la siguiente manera:\n",
    "    - if quality >= 5 ? 1 else 0\n",
    "- Elimine la variable quality del dataset\n",
    "- Aplique los siguientes entrenamientos de MLS (evalue primero si vale la pena estretificar por type):\n",
    "    - Regresion Logistica\n",
    "    - NN\n",
    "    - Aroboles de desiciones\n",
    "    - Random Forest\n",
    "- Explique cual de los entrenamientos fue el mejor?"
   ]
  },
  {
   "cell_type": "code",
   "execution_count": 4,
   "metadata": {},
   "outputs": [
    {
     "data": {
      "text/html": [
       "<div>\n",
       "<style scoped>\n",
       "    .dataframe tbody tr th:only-of-type {\n",
       "        vertical-align: middle;\n",
       "    }\n",
       "\n",
       "    .dataframe tbody tr th {\n",
       "        vertical-align: top;\n",
       "    }\n",
       "\n",
       "    .dataframe thead th {\n",
       "        text-align: right;\n",
       "    }\n",
       "</style>\n",
       "<table border=\"1\" class=\"dataframe\">\n",
       "  <thead>\n",
       "    <tr style=\"text-align: right;\">\n",
       "      <th></th>\n",
       "      <th>fixed acidity</th>\n",
       "      <th>volatile acidity</th>\n",
       "      <th>citric acid</th>\n",
       "      <th>residual sugar</th>\n",
       "      <th>chlorides</th>\n",
       "      <th>free sulfur dioxide</th>\n",
       "      <th>total sulfur dioxide</th>\n",
       "      <th>density</th>\n",
       "      <th>pH</th>\n",
       "      <th>sulphates</th>\n",
       "      <th>alcohol</th>\n",
       "      <th>quality</th>\n",
       "    </tr>\n",
       "  </thead>\n",
       "  <tbody>\n",
       "    <tr>\n",
       "      <th>count</th>\n",
       "      <td>6497.000000</td>\n",
       "      <td>6497.000000</td>\n",
       "      <td>6497.000000</td>\n",
       "      <td>6497.000000</td>\n",
       "      <td>6497.000000</td>\n",
       "      <td>6497.000000</td>\n",
       "      <td>6497.000000</td>\n",
       "      <td>6497.000000</td>\n",
       "      <td>6497.000000</td>\n",
       "      <td>6497.000000</td>\n",
       "      <td>6497.000000</td>\n",
       "      <td>6497.000000</td>\n",
       "    </tr>\n",
       "    <tr>\n",
       "      <th>mean</th>\n",
       "      <td>7.009734</td>\n",
       "      <td>0.313649</td>\n",
       "      <td>0.317829</td>\n",
       "      <td>5.186632</td>\n",
       "      <td>0.050949</td>\n",
       "      <td>29.893249</td>\n",
       "      <td>115.427350</td>\n",
       "      <td>0.994685</td>\n",
       "      <td>3.213734</td>\n",
       "      <td>0.516885</td>\n",
       "      <td>10.490004</td>\n",
       "      <td>5.763113</td>\n",
       "    </tr>\n",
       "    <tr>\n",
       "      <th>std</th>\n",
       "      <td>0.878065</td>\n",
       "      <td>0.120190</td>\n",
       "      <td>0.106051</td>\n",
       "      <td>4.307623</td>\n",
       "      <td>0.018101</td>\n",
       "      <td>16.272485</td>\n",
       "      <td>55.909441</td>\n",
       "      <td>0.002935</td>\n",
       "      <td>0.151349</td>\n",
       "      <td>0.118051</td>\n",
       "      <td>1.189748</td>\n",
       "      <td>0.757416</td>\n",
       "    </tr>\n",
       "    <tr>\n",
       "      <th>min</th>\n",
       "      <td>4.500000</td>\n",
       "      <td>0.080000</td>\n",
       "      <td>0.040000</td>\n",
       "      <td>0.600000</td>\n",
       "      <td>0.009000</td>\n",
       "      <td>1.000000</td>\n",
       "      <td>6.000000</td>\n",
       "      <td>0.987110</td>\n",
       "      <td>2.800000</td>\n",
       "      <td>0.220000</td>\n",
       "      <td>8.000000</td>\n",
       "      <td>4.000000</td>\n",
       "    </tr>\n",
       "    <tr>\n",
       "      <th>25%</th>\n",
       "      <td>6.400000</td>\n",
       "      <td>0.230000</td>\n",
       "      <td>0.260000</td>\n",
       "      <td>1.800000</td>\n",
       "      <td>0.038000</td>\n",
       "      <td>17.000000</td>\n",
       "      <td>77.000000</td>\n",
       "      <td>0.992340</td>\n",
       "      <td>3.110000</td>\n",
       "      <td>0.430000</td>\n",
       "      <td>9.500000</td>\n",
       "      <td>5.000000</td>\n",
       "    </tr>\n",
       "    <tr>\n",
       "      <th>50%</th>\n",
       "      <td>7.000000</td>\n",
       "      <td>0.290000</td>\n",
       "      <td>0.311648</td>\n",
       "      <td>3.000000</td>\n",
       "      <td>0.047000</td>\n",
       "      <td>29.000000</td>\n",
       "      <td>118.000000</td>\n",
       "      <td>0.994880</td>\n",
       "      <td>3.210000</td>\n",
       "      <td>0.510000</td>\n",
       "      <td>10.300000</td>\n",
       "      <td>6.000000</td>\n",
       "    </tr>\n",
       "    <tr>\n",
       "      <th>75%</th>\n",
       "      <td>7.500000</td>\n",
       "      <td>0.370000</td>\n",
       "      <td>0.380000</td>\n",
       "      <td>7.800000</td>\n",
       "      <td>0.059000</td>\n",
       "      <td>41.000000</td>\n",
       "      <td>155.000000</td>\n",
       "      <td>0.996990</td>\n",
       "      <td>3.320000</td>\n",
       "      <td>0.590000</td>\n",
       "      <td>11.300000</td>\n",
       "      <td>6.000000</td>\n",
       "    </tr>\n",
       "    <tr>\n",
       "      <th>max</th>\n",
       "      <td>9.600000</td>\n",
       "      <td>0.655000</td>\n",
       "      <td>0.600000</td>\n",
       "      <td>17.500000</td>\n",
       "      <td>0.105000</td>\n",
       "      <td>77.000000</td>\n",
       "      <td>272.000000</td>\n",
       "      <td>1.003690</td>\n",
       "      <td>3.630000</td>\n",
       "      <td>0.850000</td>\n",
       "      <td>14.000000</td>\n",
       "      <td>7.000000</td>\n",
       "    </tr>\n",
       "  </tbody>\n",
       "</table>\n",
       "</div>"
      ],
      "text/plain": [
       "       fixed acidity  volatile acidity  citric acid  residual sugar  \\\n",
       "count    6497.000000       6497.000000  6497.000000     6497.000000   \n",
       "mean        7.009734          0.313649     0.317829        5.186632   \n",
       "std         0.878065          0.120190     0.106051        4.307623   \n",
       "min         4.500000          0.080000     0.040000        0.600000   \n",
       "25%         6.400000          0.230000     0.260000        1.800000   \n",
       "50%         7.000000          0.290000     0.311648        3.000000   \n",
       "75%         7.500000          0.370000     0.380000        7.800000   \n",
       "max         9.600000          0.655000     0.600000       17.500000   \n",
       "\n",
       "         chlorides  free sulfur dioxide  total sulfur dioxide      density  \\\n",
       "count  6497.000000          6497.000000           6497.000000  6497.000000   \n",
       "mean      0.050949            29.893249            115.427350     0.994685   \n",
       "std       0.018101            16.272485             55.909441     0.002935   \n",
       "min       0.009000             1.000000              6.000000     0.987110   \n",
       "25%       0.038000            17.000000             77.000000     0.992340   \n",
       "50%       0.047000            29.000000            118.000000     0.994880   \n",
       "75%       0.059000            41.000000            155.000000     0.996990   \n",
       "max       0.105000            77.000000            272.000000     1.003690   \n",
       "\n",
       "                pH    sulphates      alcohol      quality  \n",
       "count  6497.000000  6497.000000  6497.000000  6497.000000  \n",
       "mean      3.213734     0.516885    10.490004     5.763113  \n",
       "std       0.151349     0.118051     1.189748     0.757416  \n",
       "min       2.800000     0.220000     8.000000     4.000000  \n",
       "25%       3.110000     0.430000     9.500000     5.000000  \n",
       "50%       3.210000     0.510000    10.300000     6.000000  \n",
       "75%       3.320000     0.590000    11.300000     6.000000  \n",
       "max       3.630000     0.850000    14.000000     7.000000  "
      ]
     },
     "execution_count": 4,
     "metadata": {},
     "output_type": "execute_result"
    }
   ],
   "source": [
    "wine.describe()"
   ]
  },
  {
   "cell_type": "code",
   "execution_count": 24,
   "metadata": {},
   "outputs": [],
   "source": []
  },
  {
   "cell_type": "code",
   "execution_count": 5,
   "metadata": {},
   "outputs": [
    {
     "data": {
      "text/html": [
       "<div>\n",
       "<style scoped>\n",
       "    .dataframe tbody tr th:only-of-type {\n",
       "        vertical-align: middle;\n",
       "    }\n",
       "\n",
       "    .dataframe tbody tr th {\n",
       "        vertical-align: top;\n",
       "    }\n",
       "\n",
       "    .dataframe thead th {\n",
       "        text-align: right;\n",
       "    }\n",
       "</style>\n",
       "<table border=\"1\" class=\"dataframe\">\n",
       "  <thead>\n",
       "    <tr style=\"text-align: right;\">\n",
       "      <th></th>\n",
       "      <th>fixed acidity</th>\n",
       "      <th>volatile acidity</th>\n",
       "      <th>pH</th>\n",
       "      <th>alcohol</th>\n",
       "      <th>density</th>\n",
       "    </tr>\n",
       "  </thead>\n",
       "  <tbody>\n",
       "    <tr>\n",
       "      <th>fixed acidity</th>\n",
       "      <td>1.000000</td>\n",
       "      <td>0.146988</td>\n",
       "      <td>-0.210268</td>\n",
       "      <td>-0.137607</td>\n",
       "      <td>0.354978</td>\n",
       "    </tr>\n",
       "    <tr>\n",
       "      <th>volatile acidity</th>\n",
       "      <td>0.146988</td>\n",
       "      <td>1.000000</td>\n",
       "      <td>0.176798</td>\n",
       "      <td>-0.015431</td>\n",
       "      <td>0.236275</td>\n",
       "    </tr>\n",
       "    <tr>\n",
       "      <th>pH</th>\n",
       "      <td>-0.210268</td>\n",
       "      <td>0.176798</td>\n",
       "      <td>1.000000</td>\n",
       "      <td>0.107260</td>\n",
       "      <td>0.015587</td>\n",
       "    </tr>\n",
       "    <tr>\n",
       "      <th>alcohol</th>\n",
       "      <td>-0.137607</td>\n",
       "      <td>-0.015431</td>\n",
       "      <td>0.107260</td>\n",
       "      <td>1.000000</td>\n",
       "      <td>-0.702234</td>\n",
       "    </tr>\n",
       "    <tr>\n",
       "      <th>density</th>\n",
       "      <td>0.354978</td>\n",
       "      <td>0.236275</td>\n",
       "      <td>0.015587</td>\n",
       "      <td>-0.702234</td>\n",
       "      <td>1.000000</td>\n",
       "    </tr>\n",
       "  </tbody>\n",
       "</table>\n",
       "</div>"
      ],
      "text/plain": [
       "                  fixed acidity  volatile acidity        pH   alcohol  \\\n",
       "fixed acidity          1.000000          0.146988 -0.210268 -0.137607   \n",
       "volatile acidity       0.146988          1.000000  0.176798 -0.015431   \n",
       "pH                    -0.210268          0.176798  1.000000  0.107260   \n",
       "alcohol               -0.137607         -0.015431  0.107260  1.000000   \n",
       "density                0.354978          0.236275  0.015587 -0.702234   \n",
       "\n",
       "                   density  \n",
       "fixed acidity     0.354978  \n",
       "volatile acidity  0.236275  \n",
       "pH                0.015587  \n",
       "alcohol          -0.702234  \n",
       "density           1.000000  "
      ]
     },
     "execution_count": 5,
     "metadata": {},
     "output_type": "execute_result"
    }
   ],
   "source": [
    "wines_n = wine.loc[:,['fixed acidity', 'volatile acidity','pH', 'alcohol', 'density']].copy()\n",
    "# Correlacion\n",
    "\n",
    "correlacion = wines_n.corr()\n",
    "correlacion\n"
   ]
  },
  {
   "cell_type": "code",
   "execution_count": 6,
   "metadata": {},
   "outputs": [
    {
     "data": {
      "text/plain": [
       "<matplotlib.image.AxesImage at 0x22317d11300>"
      ]
     },
     "execution_count": 6,
     "metadata": {},
     "output_type": "execute_result"
    },
    {
     "data": {
      "image/png": "[encoded data removed]",
      "text/plain": [
       "<Figure size 480x480 with 1 Axes>"
      ]
     },
     "metadata": {},
     "output_type": "display_data"
    }
   ],
   "source": [
    "plt.matshow(correlacion) "
   ]
  },
  {
   "cell_type": "code",
   "execution_count": 11,
   "metadata": {},
   "outputs": [],
   "source": [
    "# Implementacion de PCA\n",
    "cols_to_use = ['fixed acidity', 'volatile acidity','pH', 'alcohol', 'density']"
   ]
  },
  {
   "cell_type": "code",
   "execution_count": 13,
   "metadata": {},
   "outputs": [
    {
     "data": {
      "text/plain": [
       "array([[ 7.     ,  0.27   ,  3.     ,  8.8    ,  1.001  ],\n",
       "       [ 6.3    ,  0.3    ,  3.3    ,  9.5    ,  0.994  ],\n",
       "       [ 8.1    ,  0.28   ,  3.26   , 10.1    ,  0.9951 ],\n",
       "       ...,\n",
       "       [ 6.3    ,  0.51   ,  3.42   , 11.     ,  0.99574],\n",
       "       [ 5.9    ,  0.645  ,  3.57   , 10.2    ,  0.99547],\n",
       "       [ 6.     ,  0.31   ,  3.39   , 11.     ,  0.99549]])"
      ]
     },
     "execution_count": 13,
     "metadata": {},
     "output_type": "execute_result"
    }
   ],
   "source": [
    "x = wine.loc[:, cols_to_use].values\n",
    "x"
   ]
  },
  {
   "cell_type": "code",
   "execution_count": 15,
   "metadata": {},
   "outputs": [
    {
     "data": {
      "text/plain": [
       "array([[-0.01108707, -0.36319143, -1.41229747, -1.42058099,  2.15167442],\n",
       "       [-0.80835621, -0.11356747,  0.57002498, -0.83217593, -0.23340129],\n",
       "       [ 1.24176445, -0.27998344,  0.30571532, -0.32782874,  0.14139632],\n",
       "       ...,\n",
       "       [-0.80835621,  1.63380029,  1.36295396,  0.42869204,  0.35946038],\n",
       "       [-1.26393858,  2.75710814,  2.35411518, -0.24377088,  0.26746461],\n",
       "       [-1.15004299, -0.03035948,  1.16472171,  0.42869204,  0.27427911]])"
      ]
     },
     "execution_count": 15,
     "metadata": {},
     "output_type": "execute_result"
    }
   ],
   "source": [
    "x = StandardScaler().fit_transform(x)\n",
    "x"
   ]
  },
  {
   "cell_type": "code",
   "execution_count": 16,
   "metadata": {},
   "outputs": [],
   "source": [
    "x = np.around(x, 2)"
   ]
  },
  {
   "cell_type": "code",
   "execution_count": 17,
   "metadata": {},
   "outputs": [
    {
     "data": {
      "text/plain": [
       "array([[-0.01, -0.36, -1.41, -1.42,  2.15],\n",
       "       [-0.81, -0.11,  0.57, -0.83, -0.23],\n",
       "       [ 1.24, -0.28,  0.31, -0.33,  0.14],\n",
       "       ...,\n",
       "       [-0.81,  1.63,  1.36,  0.43,  0.36],\n",
       "       [-1.26,  2.76,  2.35, -0.24,  0.27],\n",
       "       [-1.15, -0.03,  1.16,  0.43,  0.27]])"
      ]
     },
     "execution_count": 17,
     "metadata": {},
     "output_type": "execute_result"
    }
   ],
   "source": [
    "np.nan_to_num(x)"
   ]
  },
  {
   "cell_type": "code",
   "execution_count": 18,
   "metadata": {},
   "outputs": [],
   "source": [
    "pca = PCA(n_components=2)"
   ]
  },
  {
   "cell_type": "code",
   "execution_count": 19,
   "metadata": {},
   "outputs": [],
   "source": [
    "principalComponents = pca.fit_transform(x)"
   ]
  },
  {
   "cell_type": "code",
   "execution_count": 20,
   "metadata": {},
   "outputs": [],
   "source": [
    "pcadf = pd.DataFrame(data=principalComponents ,columns=['c1','c2']) "
   ]
  },
  {
   "cell_type": "code",
   "execution_count": 21,
   "metadata": {},
   "outputs": [
    {
     "data": {
      "text/plain": [
       "<matplotlib.collections.PathCollection at 0x2231c95e6e0>"
      ]
     },
     "execution_count": 21,
     "metadata": {},
     "output_type": "execute_result"
    },
    {
     "data": {
      "image/png": "[encoded data removed]",
      "text/plain": [
       "<Figure size 640x480 with 1 Axes>"
      ]
     },
     "metadata": {},
     "output_type": "display_data"
    }
   ],
   "source": [
    "plt.scatter( pcadf['c1'] , pcadf['c2'] )"
   ]
  }
 ],
 "metadata": {
  "kernelspec": {
   "display_name": "ia",
   "language": "python",
   "name": "python3"
  },
  "language_info": {
   "codemirror_mode": {
    "name": "ipython",
    "version": 3
   },
   "file_extension": ".py",
   "mimetype": "text/x-python",
   "name": "python",
   "nbconvert_exporter": "python",
   "pygments_lexer": "ipython3",
   "version": "3.10.8"
  },
  "orig_nbformat": 4,
  "vscode": {
   "interpreter": {
    "hash": "b352f4f174ff6c8312444ef8a6b9052b3bfd45d822739c0e4e13e60e6cfd847c"
   }
  }
 },
 "nbformat": 4,
 "nbformat_minor": 2
}
